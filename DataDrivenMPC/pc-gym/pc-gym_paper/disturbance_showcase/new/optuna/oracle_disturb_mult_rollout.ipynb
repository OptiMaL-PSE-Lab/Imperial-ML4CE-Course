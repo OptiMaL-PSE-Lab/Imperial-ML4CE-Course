{
 "cells": [
  {
   "cell_type": "code",
   "execution_count": 1,
   "metadata": {},
   "outputs": [],
   "source": [
    "import os\n",
    "# Create save dir\n",
    "save_dir = \"C:/Users/Usuario/Desktop/imperial_projects/VSCode/pcgym2/paper_base_opt_train_eval/ppo\"\n",
    "os.makedirs(save_dir, exist_ok=True)"
   ]
  },
  {
   "cell_type": "code",
   "execution_count": 2,
   "metadata": {},
   "outputs": [
    {
     "name": "stdout",
     "output_type": "stream",
     "text": [
      " Volume in drive C is Windows \n",
      " Volume Serial Number is F0B8-32A3\n",
      "\n",
      " Directory of c:\\Users\\Usuario\\Desktop\\imperial_projects\\VSCode\\pcgym2\\pc-gym\n",
      "\n",
      "15/08/2024  13:03    <DIR>          .\n",
      "15/08/2024  15:19    <DIR>          ..\n",
      "15/08/2024  13:03                25 .gitattributes\n",
      "15/08/2024  13:03    <DIR>          .github\n",
      "15/08/2024  13:03             2,940 .gitignore\n",
      "15/08/2024  13:03    <DIR>          .vscode\n",
      "15/08/2024  13:03    <DIR>          Control-Club-Challenge\n",
      "15/08/2024  13:03    <DIR>          docs\n",
      "15/08/2024  13:03               188 environment.yml\n",
      "15/08/2024  13:03    <DIR>          example_notebooks\n",
      "15/08/2024  13:03             1,094 LICENSE\n",
      "15/08/2024  13:03             3,835 mkdocs.yml\n",
      "15/08/2024  13:03    <DIR>          pc-gym_paper\n",
      "15/08/2024  13:03             1,309 pyproject.toml\n",
      "15/08/2024  13:03           132,281 Quick_Start.ipynb\n",
      "15/08/2024  13:03             3,970 README.md\n",
      "15/08/2024  13:03                95 requirements.txt\n",
      "15/08/2024  13:07    <DIR>          src\n",
      "15/08/2024  13:03    <DIR>          tests\n",
      "               9 File(s)        145,737 bytes\n",
      "              10 Dir(s)  226,338,549,760 bytes free\n"
     ]
    }
   ],
   "source": [
    "!dir pc-gym"
   ]
  },
  {
   "cell_type": "code",
   "execution_count": 3,
   "metadata": {},
   "outputs": [
    {
     "name": "stdout",
     "output_type": "stream",
     "text": [
      "C:\\Users\\Usuario\\Desktop\\imperial_projects\\VSCode\\pcgym2\\pc-gym\n"
     ]
    },
    {
     "name": "stderr",
     "output_type": "stream",
     "text": [
      "c:\\Users\\Usuario\\Desktop\\imperial_projects\\VSCode\\pcgym2\\new_venv\\Lib\\site-packages\\IPython\\core\\magics\\osm.py:417: UserWarning: This is now an optional IPython functionality, setting dhist requires you to install the `pickleshare` library.\n",
      "  self.shell.db['dhist'] = compress_dhist(dhist)[-100:]\n"
     ]
    }
   ],
   "source": [
    "%cd C:/Users/Usuario/Desktop/imperial_projects/VSCode/pcgym2/pc-gym"
   ]
  },
  {
   "cell_type": "code",
   "execution_count": 4,
   "metadata": {},
   "outputs": [
    {
     "name": "stderr",
     "output_type": "stream",
     "text": [
      "c:\\Users\\Usuario\\Desktop\\imperial_projects\\VSCode\\pcgym2\\new_venv\\Lib\\site-packages\\do_mpc\\sysid\\__init__.py:15: UserWarning: The ONNX feature is not available. Please install the full version of do-mpc to access this feature.\n",
      "  warnings.warn('The ONNX feature is not available. Please install the full version of do-mpc to access this feature.')\n",
      "c:\\Users\\Usuario\\Desktop\\imperial_projects\\VSCode\\pcgym2\\new_venv\\Lib\\site-packages\\do_mpc\\opcua\\__init__.py:14: UserWarning: The opcua feature is not available. Please install the full version of do-mpc to access this feature.\n",
      "  warnings.warn('The opcua feature is not available. Please install the full version of do-mpc to access this feature.')\n"
     ]
    }
   ],
   "source": [
    "from dataclasses import dataclass\n",
    "import numpy as np\n",
    "import torch\n",
    "import matplotlib.pyplot as plt\n",
    "import gymnasium as gym\n",
    "import torch.nn.functional as F\n",
    "import copy\n",
    "from stable_baselines3 import PPO,SAC,DDPG,TD3\n",
    "import pcgym\n",
    "from pcgym import make_env\n",
    "import jax.numpy as jnp\n",
    "#Global params\n",
    "T = 26\n",
    "nsteps = 101\n",
    "# Global seed for reproducibility\n",
    "seed = 1990"
   ]
  },
  {
   "cell_type": "code",
   "execution_count": 5,
   "metadata": {},
   "outputs": [
    {
     "name": "stdout",
     "output_type": "stream",
     "text": [
      "First disturbance used in evaluation: {'Ti': array([365.53840802, 365.53840802, 365.53840802, 365.53840802,\n",
      "       365.53840802, 365.53840802, 365.53840802, 365.53840802,\n",
      "       365.53840802, 365.53840802, 365.53840802, 365.53840802,\n",
      "       365.53840802, 365.53840802, 365.53840802, 365.53840802,\n",
      "       365.53840802, 320.42850404, 320.42850404, 320.42850404,\n",
      "       320.42850404, 320.42850404, 320.42850404, 320.42850404,\n",
      "       320.42850404, 320.42850404, 320.42850404, 320.42850404,\n",
      "       320.42850404, 320.42850404, 320.42850404, 320.42850404,\n",
      "       320.42850404, 320.42850404, 320.42850404, 320.42850404,\n",
      "       320.42850404, 320.42850404, 320.42850404, 320.42850404,\n",
      "       320.42850404, 320.42850404, 320.42850404, 320.42850404,\n",
      "       320.42850404, 320.42850404, 320.42850404, 320.42850404,\n",
      "       320.42850404, 320.42850404, 320.42850404, 320.42850404,\n",
      "       321.83357664, 321.83357664, 321.83357664, 321.83357664,\n",
      "       321.83357664, 321.83357664, 321.83357664, 321.83357664,\n",
      "       321.83357664, 321.83357664, 321.83357664, 321.83357664,\n",
      "       321.83357664, 321.83357664, 321.83357664, 321.83357664,\n",
      "       321.83357664, 321.83357664, 321.83357664, 321.83357664,\n",
      "       321.83357664, 321.83357664, 321.83357664, 321.83357664,\n",
      "       321.83357664, 321.83357664, 321.83357664, 321.83357664,\n",
      "       321.83357664, 321.83357664, 321.83357664, 321.83357664,\n",
      "       321.83357664, 321.83357664, 321.83357664, 321.83357664,\n",
      "       321.83357664, 321.83357664, 321.83357664, 321.83357664,\n",
      "       321.83357664, 321.83357664, 321.83357664, 321.83357664,\n",
      "       321.83357664, 321.83357664, 321.83357664, 321.83357664,\n",
      "       321.83357664])}\n"
     ]
    }
   ],
   "source": [
    "import wandb\n",
    "import os\n",
    "import sys\n",
    "from stable_baselines3 import PPO\n",
    "import torch as th\n",
    "import numpy as np\n",
    "from stable_baselines3.common.vec_env import DummyVecEnv\n",
    "\n",
    "##################################################################################\n",
    "# Environment and RL Definition\n",
    "##################################################################################\n",
    "\n",
    "# Enter required setpoints for each state. Enter None for states without setpoints.\n",
    "SP = {\n",
    "    'T': [324.475443431599 for _ in range(5)] + [340.0 for _ in range(nsteps - 5)],\n",
    "}\n",
    "\n",
    "# Continuous box action space\n",
    "action_space = {\n",
    "    'low': np.array([250]),\n",
    "    'high': np.array([350])\n",
    "}\n",
    "\n",
    "# Continuous box observation space ([CA, T, CA_Setpoint, T_Setpoint])\n",
    "observation_space = {\n",
    "    'low': np.array([0.0, 200, 300]),\n",
    "    'high': np.array([1, 600, 400])\n",
    "}\n",
    "\n",
    "r_scale = {\n",
    "    'T': 1e-6  # Reward scale for each state,\n",
    "}\n",
    "\n",
    "# Define disturbance bounds\n",
    "disturbance_bounds = {\n",
    "    'low': np.array([310]),\n",
    "    'high': np.array([390])\n",
    "}\n",
    "\n",
    "# Environment parameters\n",
    "env_params_template = {\n",
    "    'Nx': 2,\n",
    "    'N': 100,\n",
    "    'tsim': 26,\n",
    "    'Nu': 1,\n",
    "    'SP': SP,\n",
    "    'o_space': observation_space,\n",
    "    'a_space': action_space,\n",
    "    'x0': np.array([0.87725294608097, 324.475443431599, 324.475443431599]),\n",
    "    'model': 'cstr',\n",
    "    'r_scale': r_scale,\n",
    "    'normalise_a': True,\n",
    "    'normalise_o': True,\n",
    "    'noise': True,\n",
    "    'integration_method': 'casadi',\n",
    "    'noise_percentage': 0.001,  # 0.001,\n",
    "    'disturbance_bounds': disturbance_bounds\n",
    "}\n",
    "\n",
    "# Seed everything for reproducibility\n",
    "def set_global_seeds(seed):\n",
    "    np.random.seed(seed)\n",
    "    th.manual_seed(seed)\n",
    "    if th.cuda.is_available():\n",
    "        th.cuda.manual_seed_all(seed)\n",
    "    os.environ['PYTHONHASHSEED'] = str(seed)\n",
    "\n",
    "# Function to create random disturbances\n",
    "def create_random_disturbances(seed, nsteps, low=315, high=385):\n",
    "    # Set the global seed for reproducibility\n",
    "    set_global_seeds(seed)\n",
    "    values = np.random.uniform(low, high, 3)  # Generate three random disturbance values within the specified range\n",
    "    times = np.sort(np.random.choice(range(1, nsteps - 1), 2, replace=False))  # Select two unique time steps for disturbances\n",
    "    times = np.append(times, nsteps)  # Append the total number of steps to get three periods\n",
    "    times = np.diff([0] + times.tolist())  # Calculate the duration of each disturbance period\n",
    "    disturbances = {'Ti': np.repeat(values, times)}  # Repeat the disturbance values according to the calculated durations\n",
    "    return disturbances\n",
    "\n",
    "# Create multiple environments with different disturbances\n",
    "def create_parallel_envs(n_envs, seed):\n",
    "    set_global_seeds(seed)\n",
    "    envs = []\n",
    "    disturbances_list = []\n",
    "    for i in range(n_envs):\n",
    "        env_params = env_params_template.copy()\n",
    "        disturbances = create_random_disturbances(seed + i, nsteps)\n",
    "        env_params.update({'disturbances': disturbances})\n",
    "        disturbances_list.append(disturbances)\n",
    "        envs.append(lambda: make_env(env_params))\n",
    "    return DummyVecEnv(envs), disturbances_list\n",
    "\n",
    "\n",
    "# Create evaluation environment using DummyVecEnv\n",
    "def create_eval_env(seed, n_envs=1):\n",
    "    set_global_seeds(seed)\n",
    "    envs = []\n",
    "    for i in range(n_envs):\n",
    "        env_params = env_params_template.copy()\n",
    "        disturbances = create_random_disturbances(seed + i, nsteps)\n",
    "        env_params.update({'disturbances': disturbances})\n",
    "        envs.append(lambda: make_env(env_params))\n",
    "    return DummyVecEnv(envs)\n",
    "\n",
    "config = {\n",
    "    \"seed\": 1990,\n",
    "}\n",
    "\n",
    "eval_env = create_eval_env(seed=config['seed'], n_envs=1)\n",
    "\n",
    "# Set the global seed for reproducibility\n",
    "set_global_seeds(config['seed'])\n",
    "\n",
    "# Number of parallel environments\n",
    "n_envs = 5\n",
    "\n",
    "# Function to create an environment\n",
    "def create_env(env_params):\n",
    "    set_global_seeds(seed)\n",
    "    env = make_env(env_params)\n",
    "    return env\n",
    "\n",
    "# Function to create an environment with specific disturbances\n",
    "def create_eval_env_with_disturbances(seed, disturbances):\n",
    "    set_global_seeds(seed)\n",
    "    env_params = env_params_template.copy()\n",
    "    env_params.update({\n",
    "        'disturbances': disturbances,\n",
    "        'disturbance_bounds': disturbance_space,\n",
    "        'N': 101,\n",
    "    })\n",
    "    return create_env(env_params)\n",
    "\n",
    "# Disturbance bounds for 'Ti'\n",
    "disturbance_space = {\n",
    "    'low': np.array([310]),\n",
    "    'high': np.array([390])\n",
    "}\n",
    "\n",
    "# Create the first disturbances\n",
    "first_disturbance = create_random_disturbances(seed, nsteps)\n",
    "\n",
    "# Print the first disturbance for comparison\n",
    "print(\"First disturbance used in evaluation:\", first_disturbance)\n",
    "\n",
    "# Create environments with the first disturbance\n",
    "env_first = create_eval_env_with_disturbances(seed, first_disturbance)\n",
    "\n",
    "# Number of rollouts for evaluation\n",
    "rollout_number = 10"
   ]
  },
  {
   "cell_type": "code",
   "execution_count": 6,
   "metadata": {},
   "outputs": [
    {
     "name": "stderr",
     "output_type": "stream",
     "text": [
      "c:\\Users\\Usuario\\Desktop\\imperial_projects\\VSCode\\pcgym2\\new_venv\\Lib\\site-packages\\tqdm\\auto.py:21: TqdmWarning: IProgress not found. Please update jupyter and ipywidgets. See https://ipywidgets.readthedocs.io/en/stable/user_install.html\n",
      "  from .autonotebook import tqdm as notebook_tqdm\n"
     ]
    }
   ],
   "source": [
    "import optuna\n",
    "import numpy as np\n",
    "import matplotlib.pyplot as plt\n",
    "from stable_baselines3 import PPO\n",
    "from datetime import datetime\n",
    "from optuna.visualization import plot_optimization_history, plot_param_importances, plot_contour\n",
    "\n",
    "class OptimizationStudy:\n",
    "    def __init__(self, env, best_model_path, save_dir, study_name_prefix=\"optimization\", bounds=None) -> None:\n",
    "        self.env = env\n",
    "        try:\n",
    "            self.PPO_model = PPO.load(best_model_path)\n",
    "        except Exception as e:\n",
    "            print(f\"Error loading PPO model from {best_model_path}: {e}\")\n",
    "            raise\n",
    "\n",
    "        self.save_dir = save_dir\n",
    "        self.study_name_prefix = study_name_prefix\n",
    "        self.study_name = self._generate_study_name()\n",
    "        self.study = None\n",
    "        self.bounds = bounds if bounds is not None else {\n",
    "            'N': (1, 30),\n",
    "            'R': (1e-10, 1),\n",
    "            'Q': (1e-10, 1)\n",
    "        }\n",
    "\n",
    "    def _generate_study_name(self):\n",
    "        current_time = datetime.now().strftime(\"%Y%m%d_%H%M%S\")\n",
    "        return f\"{self.study_name_prefix}_{current_time}\"\n",
    "\n",
    "    def _get_original_env(self):\n",
    "        \"\"\"Helper method to access the correct environment depending on the type of env.\"\"\"\n",
    "        if hasattr(self.env, 'envs'):  # If it's a DummyVecEnv, access the first environment\n",
    "            return self.env.envs[0]\n",
    "        else:\n",
    "            return self.env  # Otherwise, just return the environment itself\n",
    "\n",
    "    def objective(self, trial):\n",
    "        try:\n",
    "            # Suggest values for N, R, and Q based on the given bounds\n",
    "            N = trial.suggest_int('N', self.bounds['N'][0], self.bounds['N'][1])\n",
    "            R_value = trial.suggest_float('R', self.bounds['R'][0], self.bounds['R'][1])\n",
    "            Q_value = trial.suggest_float('Q', self.bounds['Q'][0], self.bounds['Q'][1])\n",
    "\n",
    "            # Extract parameters for MPC from env_params_template\n",
    "            Nu = env_params_template['Nu']\n",
    "            Nx_oracle = env_params_template['Nx']\n",
    "\n",
    "            # Define R as a diagonal matrix with R_value on the diagonal\n",
    "            R = np.diag([R_value] * Nu)\n",
    "\n",
    "            # Define Q as an identity matrix scaled by Q_value\n",
    "            Q = np.eye(Nx_oracle) * Q_value\n",
    "\n",
    "            # Update MPC parameters with the new values\n",
    "            MPC_params = {'N': N, 'R': R, 'Q': Q}\n",
    "\n",
    "            # Debugging info\n",
    "            print(f\"Evaluating with N={N}, R_value={R_value}, Q_value={Q_value}\")\n",
    "\n",
    "            # Access the original environment\n",
    "            original_env = self._get_original_env()\n",
    "\n",
    "            # Get rollouts with the environment using the PPO model and the specified MPC parameters\n",
    "            evaluator, data = original_env.get_rollouts({'PPO': self.PPO_model},\n",
    "                                                        reps=10, oracle=True, MPC_params=MPC_params)\n",
    "\n",
    "            # Aggregate the performance values across the rollouts\n",
    "            performance_values = data['oracle'][\"r\"].sum(axis=1)  # This gives an array of performance values\n",
    "            performance = performance_values.mean()  # Take the mean (or you could use sum, max, etc.)\n",
    "\n",
    "            return performance\n",
    "        except Exception as e:\n",
    "            print(f\"Error during trial execution: {e}\")\n",
    "            raise\n",
    "\n",
    "    def run_optimization(self, n_trials: int):\n",
    "        try:\n",
    "            self.study = optuna.create_study(direction='maximize')\n",
    "            self.study.optimize(self.objective, n_trials=n_trials)  # Removed n_jobs for Jupyter\n",
    "        except Exception as e:\n",
    "            print(f\"Error during optimization: {e}\")\n",
    "            raise\n",
    "\n",
    "    def save_results(self):\n",
    "        try:\n",
    "            # Save the study results to a text file\n",
    "            result_file = f\"{self.save_dir}/optimization_results_{self.study_name}.txt\"\n",
    "            with open(result_file, 'w') as f:\n",
    "                f.write(f\"Study name: {self.study_name}\\n\")\n",
    "                f.write(f\"Best parameters:\\n\")\n",
    "                f.write(f\"N = {self.study.best_params['N']}\\n\")\n",
    "                f.write(f\"R = {self.study.best_params['R']:.9e}\\n\")\n",
    "                f.write(f\"Q = {self.study.best_params['Q']:.9e}\\n\")\n",
    "                f.write(f\"Best performance: {self.study.best_value:.9f}\\n\")\n",
    "        except Exception as e:\n",
    "            print(f\"Error saving results: {e}\")\n",
    "            raise\n",
    "\n",
    "    def print_results(self):\n",
    "        try:\n",
    "            print(f'Study name: {self.study_name}')\n",
    "            print('Best parameters:')\n",
    "            print(f\"N = {self.study.best_params['N']}\")\n",
    "            print(f\"R = {self.study.best_params['R']:.6e}\")\n",
    "            print(f\"Q = {self.study.best_params['Q']:.6e}\")\n",
    "            print(f\"Best performance: {self.study.best_value:.6f}\")\n",
    "        except Exception as e:\n",
    "            print(f\"Error printing results: {e}\")\n",
    "            raise\n",
    "\n",
    "    def visualize_results(self):\n",
    "        try:\n",
    "            plot_optimization_history(self.study)\n",
    "            plt.show()\n",
    "            plot_param_importances(self.study)\n",
    "            plt.show()\n",
    "            plot_contour(self.study, params=['N', 'R', 'Q'])\n",
    "            plt.show()\n",
    "        except Exception as e:\n",
    "            print(f\"Error visualizing results: {e}\")\n",
    "            raise\n",
    "\n",
    "    def get_best_params(self):\n",
    "        try:\n",
    "            return {\n",
    "                'N': self.study.best_params['N'],\n",
    "                'R': np.diag([self.study.best_params['R']] * env_params_template['Nu']),\n",
    "                'Q': np.eye(env_params_template['Nx']) * self.study.best_params['Q']\n",
    "            }\n",
    "        except Exception as e:\n",
    "            print(f\"Error getting best parameters: {e}\")\n",
    "            raise\n"
   ]
  },
  {
   "cell_type": "code",
   "execution_count": 7,
   "metadata": {},
   "outputs": [
    {
     "name": "stderr",
     "output_type": "stream",
     "text": [
      "c:\\Users\\Usuario\\Desktop\\imperial_projects\\VSCode\\pcgym2\\new_venv\\Lib\\site-packages\\stable_baselines3\\common\\save_util.py:449: FutureWarning: You are using `torch.load` with `weights_only=False` (the current default value), which uses the default pickle module implicitly. It is possible to construct malicious pickle data which will execute arbitrary code during unpickling (See https://github.com/pytorch/pytorch/blob/main/SECURITY.md#untrusted-models for more details). In a future release, the default value for `weights_only` will be flipped to `True`. This limits the functions that could be executed during unpickling. Arbitrary objects will no longer be allowed to be loaded via this mode unless they are explicitly allowlisted by the user via `torch.serialization.add_safe_globals`. We recommend you start setting `weights_only=True` for any use case where you don't have full control of the loaded file. Please open an issue on GitHub for any issues related to this experimental feature.\n",
      "  th_object = th.load(file_content, map_location=device)\n",
      "[I 2024-08-15 15:21:27,252] A new study created in memory with name: no-name-bb117328-9b32-44e5-a951-7a1b83984d97\n"
     ]
    },
    {
     "name": "stdout",
     "output_type": "stream",
     "text": [
      "Evaluating with N=21, R_value=0.7801443243516485, Q_value=0.8341092379317139\n"
     ]
    },
    {
     "name": "stderr",
     "output_type": "stream",
     "text": [
      "[I 2024-08-15 15:21:36,699] Trial 0 finished with value: -0.40494931772628745 and parameters: {'N': 21, 'R': 0.7801443243516485, 'Q': 0.8341092379317139}. Best is trial 0 with value: -0.40494931772628745.\n"
     ]
    },
    {
     "name": "stdout",
     "output_type": "stream",
     "text": [
      "Evaluating with N=15, R_value=0.5981789145020329, Q_value=0.6755068762210144\n"
     ]
    },
    {
     "name": "stderr",
     "output_type": "stream",
     "text": [
      "[I 2024-08-15 15:21:45,305] Trial 1 finished with value: -0.4049493177262836 and parameters: {'N': 15, 'R': 0.5981789145020329, 'Q': 0.6755068762210144}. Best is trial 1 with value: -0.4049493177262836.\n"
     ]
    },
    {
     "name": "stdout",
     "output_type": "stream",
     "text": [
      "Evaluating with N=1, R_value=0.2990522382344712, Q_value=0.6032734865049503\n"
     ]
    },
    {
     "name": "stderr",
     "output_type": "stream",
     "text": [
      "[I 2024-08-15 15:21:50,126] Trial 2 finished with value: -0.4049493177262843 and parameters: {'N': 1, 'R': 0.2990522382344712, 'Q': 0.6032734865049503}. Best is trial 1 with value: -0.4049493177262836.\n"
     ]
    },
    {
     "name": "stdout",
     "output_type": "stream",
     "text": [
      "Evaluating with N=17, R_value=0.8430216480973015, Q_value=0.9557580413060358\n"
     ]
    },
    {
     "name": "stderr",
     "output_type": "stream",
     "text": [
      "[I 2024-08-15 15:21:58,384] Trial 3 finished with value: -0.40494931772628384 and parameters: {'N': 17, 'R': 0.8430216480973015, 'Q': 0.9557580413060358}. Best is trial 1 with value: -0.4049493177262836.\n"
     ]
    },
    {
     "name": "stdout",
     "output_type": "stream",
     "text": [
      "Evaluating with N=27, R_value=0.8584552698457952, Q_value=0.904806305711788\n"
     ]
    },
    {
     "name": "stderr",
     "output_type": "stream",
     "text": [
      "[I 2024-08-15 15:22:08,986] Trial 4 finished with value: -0.40494931772628817 and parameters: {'N': 27, 'R': 0.8584552698457952, 'Q': 0.904806305711788}. Best is trial 1 with value: -0.4049493177262836.\n"
     ]
    },
    {
     "name": "stdout",
     "output_type": "stream",
     "text": [
      "Evaluating with N=23, R_value=0.9126945524500117, Q_value=0.42746540297454055\n"
     ]
    },
    {
     "name": "stderr",
     "output_type": "stream",
     "text": [
      "[I 2024-08-15 15:22:18,813] Trial 5 finished with value: -0.4049493177263172 and parameters: {'N': 23, 'R': 0.9126945524500117, 'Q': 0.42746540297454055}. Best is trial 1 with value: -0.4049493177262836.\n"
     ]
    },
    {
     "name": "stdout",
     "output_type": "stream",
     "text": [
      "Evaluating with N=12, R_value=0.4834149772300322, Q_value=0.6931941105043764\n"
     ]
    },
    {
     "name": "stderr",
     "output_type": "stream",
     "text": [
      "[I 2024-08-15 15:22:26,745] Trial 6 finished with value: -0.4049493177262645 and parameters: {'N': 12, 'R': 0.4834149772300322, 'Q': 0.6931941105043764}. Best is trial 6 with value: -0.4049493177262645.\n"
     ]
    },
    {
     "name": "stdout",
     "output_type": "stream",
     "text": [
      "Evaluating with N=14, R_value=0.9102504184991377, Q_value=0.19028955471926873\n"
     ]
    },
    {
     "name": "stderr",
     "output_type": "stream",
     "text": [
      "[I 2024-08-15 15:22:34,409] Trial 7 finished with value: -0.4049493177263283 and parameters: {'N': 14, 'R': 0.9102504184991377, 'Q': 0.19028955471926873}. Best is trial 6 with value: -0.4049493177262645.\n"
     ]
    },
    {
     "name": "stdout",
     "output_type": "stream",
     "text": [
      "Evaluating with N=1, R_value=0.6026814866558521, Q_value=0.32528386011266824\n"
     ]
    },
    {
     "name": "stderr",
     "output_type": "stream",
     "text": [
      "[I 2024-08-15 15:22:39,156] Trial 8 finished with value: -0.40494931772632503 and parameters: {'N': 1, 'R': 0.6026814866558521, 'Q': 0.32528386011266824}. Best is trial 6 with value: -0.4049493177262645.\n"
     ]
    },
    {
     "name": "stdout",
     "output_type": "stream",
     "text": [
      "Evaluating with N=11, R_value=0.04982330631382471, Q_value=0.39970533038087813\n"
     ]
    },
    {
     "name": "stderr",
     "output_type": "stream",
     "text": [
      "[I 2024-08-15 15:22:45,616] Trial 9 finished with value: -0.2267469200372712 and parameters: {'N': 11, 'R': 0.04982330631382471, 'Q': 0.39970533038087813}. Best is trial 9 with value: -0.2267469200372712.\n"
     ]
    },
    {
     "name": "stdout",
     "output_type": "stream",
     "text": [
      "Study name: optimization_20240815_152127\n",
      "Best parameters:\n",
      "N = 11\n",
      "R = 4.982331e-02\n",
      "Q = 3.997053e-01\n",
      "Best performance: -0.226747\n"
     ]
    }
   ],
   "source": [
    "# Usage example in Jupyter notebook:\n",
    "save_dir = \"C:/Users/Usuario/Desktop/imperial_projects/VSCode/pcgym2/paper_base_opt_train_eval/ppo\"\n",
    "best_model_path = f\"{save_dir}/best_model.zip\"\n",
    "optimization = OptimizationStudy(eval_env, best_model_path, save_dir)\n",
    "optimization.run_optimization(100)\n",
    "optimization.print_results()\n",
    "optimization.save_results()  # Save results to a file\n",
    "optimization.visualize_results()\n",
    "best_params = optimization.get_best_params()"
   ]
  },
  {
   "cell_type": "code",
   "execution_count": 1,
   "metadata": {},
   "outputs": [
    {
     "ename": "NameError",
     "evalue": "name 'set_global_seeds' is not defined",
     "output_type": "error",
     "traceback": [
      "\u001b[1;31m---------------------------------------------------------------------------\u001b[0m",
      "\u001b[1;31mNameError\u001b[0m                                 Traceback (most recent call last)",
      "Cell \u001b[1;32mIn[1], line 2\u001b[0m\n\u001b[0;32m      1\u001b[0m \u001b[38;5;66;03m# Set the global seed for reproducibility\u001b[39;00m\n\u001b[1;32m----> 2\u001b[0m \u001b[43mset_global_seeds\u001b[49m(seed)\n\u001b[0;32m      4\u001b[0m \u001b[38;5;66;03m# Define a new disturbance pattern that is out of the scope trained\u001b[39;00m\n\u001b[0;32m      5\u001b[0m new_disturbance \u001b[38;5;241m=\u001b[39m {\u001b[38;5;124m'\u001b[39m\u001b[38;5;124mTi\u001b[39m\u001b[38;5;124m'\u001b[39m: np\u001b[38;5;241m.\u001b[39mrepeat([\u001b[38;5;241m390\u001b[39m, \u001b[38;5;241m370\u001b[39m, \u001b[38;5;241m310\u001b[39m], [nsteps\u001b[38;5;241m/\u001b[39m\u001b[38;5;241m/\u001b[39m\u001b[38;5;241m4\u001b[39m, nsteps\u001b[38;5;241m/\u001b[39m\u001b[38;5;241m/\u001b[39m\u001b[38;5;241m2\u001b[39m, nsteps\u001b[38;5;241m/\u001b[39m\u001b[38;5;241m/\u001b[39m\u001b[38;5;241m4\u001b[39m])}\n",
      "\u001b[1;31mNameError\u001b[0m: name 'set_global_seeds' is not defined"
     ]
    }
   ],
   "source": [
    "# Set the global seed for reproducibility\n",
    "set_global_seeds(seed)\n",
    "\n",
    "# Define a new disturbance pattern that is out of the scope trained\n",
    "new_disturbance = {'Ti': np.repeat([390, 370, 310], [nsteps//4, nsteps//2, nsteps//4])}\n",
    "\n",
    "# Create a new environment with the custom disturbance\n",
    "env_new = create_eval_env_with_disturbances(seed, new_disturbance)\n",
    "\n",
    "# Define the OptimizationStudy class with this new environment\n",
    "optimization_new = OptimizationStudy(env_new, best_model_path, save_dir)\n",
    "\n",
    "# Run the optimization process with the new disturbance\n",
    "optimization_new.run_optimization(100)\n",
    "\n",
    "# Print and save the results\n",
    "optimization_new.print_results()\n",
    "optimization_new.save_results()\n",
    "\n",
    "# Visualize the optimization results\n",
    "optimization_new.visualize_results()\n",
    "\n",
    "# Get the optimized parameters\n",
    "best_params_new = optimization_new.get_best_params()\n",
    "\n",
    "print(f\"Optimized Parameters with New Disturbance: {best_params_new}\")"
   ]
  }
 ],
 "metadata": {
  "kernelspec": {
   "display_name": "new_venv",
   "language": "python",
   "name": "python3"
  },
  "language_info": {
   "codemirror_mode": {
    "name": "ipython",
    "version": 3
   },
   "file_extension": ".py",
   "mimetype": "text/x-python",
   "name": "python",
   "nbconvert_exporter": "python",
   "pygments_lexer": "ipython3",
   "version": "3.12.2"
  }
 },
 "nbformat": 4,
 "nbformat_minor": 2
}
