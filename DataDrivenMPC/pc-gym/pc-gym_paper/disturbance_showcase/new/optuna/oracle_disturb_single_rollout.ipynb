{
 "cells": [
  {
   "cell_type": "code",
   "execution_count": 1,
   "metadata": {},
   "outputs": [],
   "source": [
    "import os\n",
    "# Create save dir\n",
    "save_dir = \"C:/Users/Usuario/Desktop/imperial_projects/VSCode/pcgym2/paper_base_opt_train_eval/ppo\"\n",
    "os.makedirs(save_dir, exist_ok=True)"
   ]
  },
  {
   "cell_type": "code",
   "execution_count": 2,
   "metadata": {},
   "outputs": [
    {
     "name": "stdout",
     "output_type": "stream",
     "text": [
      " Volume in drive C is Windows \n",
      " Volume Serial Number is F0B8-32A3\n",
      "\n",
      " Directory of c:\\Users\\Usuario\\Desktop\\imperial_projects\\VSCode\\pcgym2\\pc-gym\n",
      "\n",
      "15/08/2024  13:03    <DIR>          .\n",
      "15/08/2024  14:57    <DIR>          ..\n",
      "15/08/2024  13:03                25 .gitattributes\n",
      "15/08/2024  13:03    <DIR>          .github\n",
      "15/08/2024  13:03             2,940 .gitignore\n",
      "15/08/2024  13:03    <DIR>          .vscode\n",
      "15/08/2024  13:03    <DIR>          Control-Club-Challenge\n",
      "15/08/2024  13:03    <DIR>          docs\n",
      "15/08/2024  13:03               188 environment.yml\n",
      "15/08/2024  13:03    <DIR>          example_notebooks\n",
      "15/08/2024  13:03             1,094 LICENSE\n",
      "15/08/2024  13:03             3,835 mkdocs.yml\n",
      "15/08/2024  13:03    <DIR>          pc-gym_paper\n",
      "15/08/2024  13:03             1,309 pyproject.toml\n",
      "15/08/2024  13:03           132,281 Quick_Start.ipynb\n",
      "15/08/2024  13:03             3,970 README.md\n",
      "15/08/2024  13:03                95 requirements.txt\n",
      "15/08/2024  13:07    <DIR>          src\n",
      "15/08/2024  13:03    <DIR>          tests\n",
      "               9 File(s)        145,737 bytes\n",
      "              10 Dir(s)  226,349,608,960 bytes free\n"
     ]
    }
   ],
   "source": [
    "!dir pc-gym"
   ]
  },
  {
   "cell_type": "code",
   "execution_count": 3,
   "metadata": {},
   "outputs": [
    {
     "name": "stdout",
     "output_type": "stream",
     "text": [
      "C:\\Users\\Usuario\\Desktop\\imperial_projects\\VSCode\\pcgym2\\pc-gym\n"
     ]
    },
    {
     "name": "stderr",
     "output_type": "stream",
     "text": [
      "c:\\Users\\Usuario\\Desktop\\imperial_projects\\VSCode\\pcgym2\\new_venv\\Lib\\site-packages\\IPython\\core\\magics\\osm.py:417: UserWarning: This is now an optional IPython functionality, setting dhist requires you to install the `pickleshare` library.\n",
      "  self.shell.db['dhist'] = compress_dhist(dhist)[-100:]\n"
     ]
    }
   ],
   "source": [
    "%cd C:/Users/Usuario/Desktop/imperial_projects/VSCode/pcgym2/pc-gym"
   ]
  },
  {
   "cell_type": "code",
   "execution_count": 4,
   "metadata": {},
   "outputs": [
    {
     "name": "stderr",
     "output_type": "stream",
     "text": [
      "c:\\Users\\Usuario\\Desktop\\imperial_projects\\VSCode\\pcgym2\\new_venv\\Lib\\site-packages\\do_mpc\\sysid\\__init__.py:15: UserWarning: The ONNX feature is not available. Please install the full version of do-mpc to access this feature.\n",
      "  warnings.warn('The ONNX feature is not available. Please install the full version of do-mpc to access this feature.')\n",
      "c:\\Users\\Usuario\\Desktop\\imperial_projects\\VSCode\\pcgym2\\new_venv\\Lib\\site-packages\\do_mpc\\opcua\\__init__.py:14: UserWarning: The opcua feature is not available. Please install the full version of do-mpc to access this feature.\n",
      "  warnings.warn('The opcua feature is not available. Please install the full version of do-mpc to access this feature.')\n"
     ]
    }
   ],
   "source": [
    "from dataclasses import dataclass\n",
    "import numpy as np\n",
    "import torch\n",
    "import matplotlib.pyplot as plt\n",
    "import gymnasium as gym\n",
    "import torch.nn.functional as F\n",
    "import copy\n",
    "from stable_baselines3 import PPO,SAC,DDPG,TD3\n",
    "import pcgym\n",
    "from pcgym import make_env\n",
    "import jax.numpy as jnp\n",
    "#Global params\n",
    "T = 26\n",
    "nsteps = 101\n",
    "# Global seed for reproducibility\n",
    "seed = 1990"
   ]
  },
  {
   "cell_type": "code",
   "execution_count": 5,
   "metadata": {},
   "outputs": [
    {
     "name": "stdout",
     "output_type": "stream",
     "text": [
      "First disturbance used in evaluation: {'Ti': array([365.53840802, 365.53840802, 365.53840802, 365.53840802,\n",
      "       365.53840802, 365.53840802, 365.53840802, 365.53840802,\n",
      "       365.53840802, 365.53840802, 365.53840802, 365.53840802,\n",
      "       365.53840802, 365.53840802, 365.53840802, 365.53840802,\n",
      "       365.53840802, 320.42850404, 320.42850404, 320.42850404,\n",
      "       320.42850404, 320.42850404, 320.42850404, 320.42850404,\n",
      "       320.42850404, 320.42850404, 320.42850404, 320.42850404,\n",
      "       320.42850404, 320.42850404, 320.42850404, 320.42850404,\n",
      "       320.42850404, 320.42850404, 320.42850404, 320.42850404,\n",
      "       320.42850404, 320.42850404, 320.42850404, 320.42850404,\n",
      "       320.42850404, 320.42850404, 320.42850404, 320.42850404,\n",
      "       320.42850404, 320.42850404, 320.42850404, 320.42850404,\n",
      "       320.42850404, 320.42850404, 320.42850404, 320.42850404,\n",
      "       321.83357664, 321.83357664, 321.83357664, 321.83357664,\n",
      "       321.83357664, 321.83357664, 321.83357664, 321.83357664,\n",
      "       321.83357664, 321.83357664, 321.83357664, 321.83357664,\n",
      "       321.83357664, 321.83357664, 321.83357664, 321.83357664,\n",
      "       321.83357664, 321.83357664, 321.83357664, 321.83357664,\n",
      "       321.83357664, 321.83357664, 321.83357664, 321.83357664,\n",
      "       321.83357664, 321.83357664, 321.83357664, 321.83357664,\n",
      "       321.83357664, 321.83357664, 321.83357664, 321.83357664,\n",
      "       321.83357664, 321.83357664, 321.83357664, 321.83357664,\n",
      "       321.83357664, 321.83357664, 321.83357664, 321.83357664,\n",
      "       321.83357664, 321.83357664, 321.83357664, 321.83357664,\n",
      "       321.83357664, 321.83357664, 321.83357664, 321.83357664,\n",
      "       321.83357664])}\n"
     ]
    }
   ],
   "source": [
    "import wandb\n",
    "import os\n",
    "import sys\n",
    "from stable_baselines3 import PPO\n",
    "import torch as th\n",
    "import numpy as np\n",
    "from stable_baselines3.common.vec_env import DummyVecEnv\n",
    "\n",
    "##################################################################################\n",
    "# Environment and RL Definition\n",
    "##################################################################################\n",
    "\n",
    "# Enter required setpoints for each state. Enter None for states without setpoints.\n",
    "SP = {\n",
    "    'T': [324.475443431599 for _ in range(5)] + [340.0 for _ in range(nsteps - 5)],\n",
    "}\n",
    "\n",
    "# Continuous box action space\n",
    "action_space = {\n",
    "    'low': np.array([250]),\n",
    "    'high': np.array([350])\n",
    "}\n",
    "\n",
    "# Continuous box observation space ([CA, T, CA_Setpoint, T_Setpoint])\n",
    "observation_space = {\n",
    "    'low': np.array([0.0, 200, 300]),\n",
    "    'high': np.array([1, 600, 400])\n",
    "}\n",
    "\n",
    "r_scale = {\n",
    "    'T': 1e-6  # Reward scale for each state,\n",
    "}\n",
    "\n",
    "# Define disturbance bounds\n",
    "disturbance_bounds = {\n",
    "    'low': np.array([310]),\n",
    "    'high': np.array([390])\n",
    "}\n",
    "\n",
    "# Environment parameters\n",
    "env_params_template = {\n",
    "    'Nx': 2,\n",
    "    'N': 100,\n",
    "    'tsim': 26,\n",
    "    'Nu': 1,\n",
    "    'SP': SP,\n",
    "    'o_space': observation_space,\n",
    "    'a_space': action_space,\n",
    "    'x0': np.array([0.87725294608097, 324.475443431599, 324.475443431599]),\n",
    "    'model': 'cstr',\n",
    "    'r_scale': r_scale,\n",
    "    'normalise_a': True,\n",
    "    'normalise_o': True,\n",
    "    'noise': True,\n",
    "    'integration_method': 'casadi',\n",
    "    'noise_percentage': 0.001,  # 0.001,\n",
    "    'disturbance_bounds': disturbance_bounds\n",
    "}\n",
    "\n",
    "# Seed everything for reproducibility\n",
    "def set_global_seeds(seed):\n",
    "    np.random.seed(seed)\n",
    "    th.manual_seed(seed)\n",
    "    if th.cuda.is_available():\n",
    "        th.cuda.manual_seed_all(seed)\n",
    "    os.environ['PYTHONHASHSEED'] = str(seed)\n",
    "\n",
    "# Function to create random disturbances\n",
    "def create_random_disturbances(seed, nsteps, low=315, high=385):\n",
    "    # Set the global seed for reproducibility\n",
    "    set_global_seeds(seed)\n",
    "    values = np.random.uniform(low, high, 3)  # Generate three random disturbance values within the specified range\n",
    "    times = np.sort(np.random.choice(range(1, nsteps - 1), 2, replace=False))  # Select two unique time steps for disturbances\n",
    "    times = np.append(times, nsteps)  # Append the total number of steps to get three periods\n",
    "    times = np.diff([0] + times.tolist())  # Calculate the duration of each disturbance period\n",
    "    disturbances = {'Ti': np.repeat(values, times)}  # Repeat the disturbance values according to the calculated durations\n",
    "    return disturbances\n",
    "\n",
    "# Create multiple environments with different disturbances\n",
    "def create_parallel_envs(n_envs, seed):\n",
    "    set_global_seeds(seed)\n",
    "    envs = []\n",
    "    disturbances_list = []\n",
    "    for i in range(n_envs):\n",
    "        env_params = env_params_template.copy()\n",
    "        disturbances = create_random_disturbances(seed + i, nsteps)\n",
    "        env_params.update({'disturbances': disturbances})\n",
    "        disturbances_list.append(disturbances)\n",
    "        envs.append(lambda: make_env(env_params))\n",
    "    return DummyVecEnv(envs), disturbances_list\n",
    "\n",
    "\n",
    "# Create evaluation environment using DummyVecEnv\n",
    "def create_eval_env(seed, n_envs=1):\n",
    "    set_global_seeds(seed)\n",
    "    envs = []\n",
    "    for i in range(n_envs):\n",
    "        env_params = env_params_template.copy()\n",
    "        disturbances = create_random_disturbances(seed + i, nsteps)\n",
    "        env_params.update({'disturbances': disturbances})\n",
    "        envs.append(lambda: make_env(env_params))\n",
    "    return DummyVecEnv(envs)\n",
    "\n",
    "config = {\n",
    "    \"seed\": 1990,\n",
    "}\n",
    "\n",
    "eval_env = create_eval_env(seed=config['seed'], n_envs=1)\n",
    "\n",
    "# Set the global seed for reproducibility\n",
    "set_global_seeds(config['seed'])\n",
    "\n",
    "# Number of parallel environments\n",
    "n_envs = 5\n",
    "\n",
    "# Function to create an environment\n",
    "def create_env(env_params):\n",
    "    set_global_seeds(seed)\n",
    "    env = make_env(env_params)\n",
    "    return env\n",
    "\n",
    "# Function to create an environment with specific disturbances\n",
    "def create_eval_env_with_disturbances(seed, disturbances):\n",
    "    set_global_seeds(seed)\n",
    "    env_params = env_params_template.copy()\n",
    "    env_params.update({\n",
    "        'disturbances': disturbances,\n",
    "        'disturbance_bounds': disturbance_space,\n",
    "        'N': 101,\n",
    "    })\n",
    "    return create_env(env_params)\n",
    "\n",
    "# Disturbance bounds for 'Ti'\n",
    "disturbance_space = {\n",
    "    'low': np.array([310]),\n",
    "    'high': np.array([390])\n",
    "}\n",
    "\n",
    "# Create the first disturbances\n",
    "first_disturbance = create_random_disturbances(seed, nsteps)\n",
    "\n",
    "# Print the first disturbance for comparison\n",
    "print(\"First disturbance used in evaluation:\", first_disturbance)\n",
    "\n",
    "# Create environments with the first disturbance\n",
    "env_first = create_eval_env_with_disturbances(seed, first_disturbance)\n",
    "\n",
    "# Number of rollouts for evaluation\n",
    "rollout_number = 10"
   ]
  },
  {
   "cell_type": "code",
   "execution_count": 6,
   "metadata": {},
   "outputs": [
    {
     "name": "stderr",
     "output_type": "stream",
     "text": [
      "c:\\Users\\Usuario\\Desktop\\imperial_projects\\VSCode\\pcgym2\\new_venv\\Lib\\site-packages\\tqdm\\auto.py:21: TqdmWarning: IProgress not found. Please update jupyter and ipywidgets. See https://ipywidgets.readthedocs.io/en/stable/user_install.html\n",
      "  from .autonotebook import tqdm as notebook_tqdm\n"
     ]
    }
   ],
   "source": [
    "import optuna\n",
    "import numpy as np\n",
    "import matplotlib.pyplot as plt\n",
    "from stable_baselines3 import PPO\n",
    "from datetime import datetime\n",
    "from optuna.visualization import plot_optimization_history, plot_param_importances, plot_contour\n",
    "\n",
    "class OptimizationStudy:\n",
    "    def __init__(self, env, best_model_path, save_dir, study_name_prefix=\"optimization\", bounds=None) -> None:\n",
    "        self.env = env\n",
    "        try:\n",
    "            self.PPO_model = PPO.load(best_model_path)\n",
    "        except Exception as e:\n",
    "            print(f\"Error loading PPO model from {best_model_path}: {e}\")\n",
    "            raise\n",
    "\n",
    "        self.save_dir = save_dir\n",
    "        self.study_name_prefix = study_name_prefix\n",
    "        self.study_name = self._generate_study_name()\n",
    "        self.study = None\n",
    "        self.bounds = bounds if bounds is not None else {\n",
    "            'N': (1, 30),\n",
    "            'R': (1e-10, 1),\n",
    "            'Q': (1e-10, 1)\n",
    "        }\n",
    "\n",
    "    def _generate_study_name(self):\n",
    "        current_time = datetime.now().strftime(\"%Y%m%d_%H%M%S\")\n",
    "        return f\"{self.study_name_prefix}_{current_time}\"\n",
    "\n",
    "    def _get_original_env(self):\n",
    "        \"\"\"Helper method to access the correct environment depending on the type of env.\"\"\"\n",
    "        if hasattr(self.env, 'envs'):  # If it's a DummyVecEnv, access the first environment\n",
    "            return self.env.envs[0]\n",
    "        else:\n",
    "            return self.env  # Otherwise, just return the environment itself\n",
    "\n",
    "    def objective(self, trial):\n",
    "        try:\n",
    "            # Suggest values for N, R, and Q based on the given bounds\n",
    "            N = trial.suggest_int('N', self.bounds['N'][0], self.bounds['N'][1])\n",
    "            R_value = trial.suggest_float('R', self.bounds['R'][0], self.bounds['R'][1])\n",
    "            Q_value = trial.suggest_float('Q', self.bounds['Q'][0], self.bounds['Q'][1])\n",
    "\n",
    "            # Extract parameters for MPC from env_params_template\n",
    "            Nu = env_params_template['Nu']\n",
    "            Nx_oracle = env_params_template['Nx']\n",
    "\n",
    "            # Define R as a diagonal matrix with R_value on the diagonal\n",
    "            R = np.diag([R_value] * Nu)\n",
    "\n",
    "            # Define Q as an identity matrix scaled by Q_value\n",
    "            Q = np.eye(Nx_oracle) * Q_value\n",
    "\n",
    "            # Update MPC parameters with the new values\n",
    "            MPC_params = {'N': N, 'R': R, 'Q': Q}\n",
    "\n",
    "            # Debugging info\n",
    "            print(f\"Evaluating with N={N}, R_value={R_value}, Q_value={Q_value}\")\n",
    "\n",
    "            # Access the original environment\n",
    "            original_env = self._get_original_env()\n",
    "\n",
    "            # Get rollouts with the environment using the PPO model and the specified MPC parameters\n",
    "            evaluator, data = original_env.get_rollouts({'PPO': self.PPO_model},\n",
    "                                                        reps=5, oracle=True, MPC_params=MPC_params)\n",
    "\n",
    "            # Evaluate performance based on the sum of rewards\n",
    "            performance = data['oracle'][\"r\"].sum(axis=1)[0]\n",
    "\n",
    "            return performance\n",
    "        except Exception as e:\n",
    "            print(f\"Error during trial execution: {e}\")\n",
    "            raise\n",
    "\n",
    "    def run_optimization(self, n_trials: int):\n",
    "        try:\n",
    "            self.study = optuna.create_study(direction='maximize')\n",
    "            self.study.optimize(self.objective, n_trials=n_trials)  # Removed n_jobs for Jupyter\n",
    "        except Exception as e:\n",
    "            print(f\"Error during optimization: {e}\")\n",
    "            raise\n",
    "\n",
    "    def save_results(self):\n",
    "        try:\n",
    "            # Save the study results to a text file\n",
    "            result_file = f\"{self.save_dir}/optimization_results_{self.study_name}.txt\"\n",
    "            with open(result_file, 'w') as f:\n",
    "                f.write(f\"Study name: {self.study_name}\\n\")\n",
    "                f.write(f\"Best parameters:\\n\")\n",
    "                f.write(f\"N = {self.study.best_params['N']}\\n\")\n",
    "                f.write(f\"R = {self.study.best_params['R']:.9e}\\n\")\n",
    "                f.write(f\"Q = {self.study.best_params['Q']:.9e}\\n\")\n",
    "                f.write(f\"Best performance: {self.study.best_value:.9f}\\n\")\n",
    "        except Exception as e:\n",
    "            print(f\"Error saving results: {e}\")\n",
    "            raise\n",
    "\n",
    "    def print_results(self):\n",
    "        try:\n",
    "            print(f'Study name: {self.study_name}')\n",
    "            print('Best parameters:')\n",
    "            print(f\"N = {self.study.best_params['N']}\")\n",
    "            print(f\"R = {self.study.best_params['R']:.6e}\")\n",
    "            print(f\"Q = {self.study.best_params['Q']:.6e}\")\n",
    "            print(f\"Best performance: {self.study.best_value:.6f}\")\n",
    "        except Exception as e:\n",
    "            print(f\"Error printing results: {e}\")\n",
    "            raise\n",
    "\n",
    "    def visualize_results(self):\n",
    "        try:\n",
    "            plot_optimization_history(self.study)\n",
    "            plt.show()\n",
    "            plot_param_importances(self.study)\n",
    "            plt.show()\n",
    "            plot_contour(self.study, params=['N', 'R', 'Q'])\n",
    "            plt.show()\n",
    "        except Exception as e:\n",
    "            print(f\"Error visualizing results: {e}\")\n",
    "            raise\n",
    "\n",
    "    def get_best_params(self):\n",
    "        try:\n",
    "            return {\n",
    "                'N': self.study.best_params['N'],\n",
    "                'R': np.diag([self.study.best_params['R']] * env_params_template['Nu']),\n",
    "                'Q': np.eye(env_params_template['Nx']) * self.study.best_params['Q']\n",
    "            }\n",
    "        except Exception as e:\n",
    "            print(f\"Error getting best parameters: {e}\")\n",
    "            raise\n"
   ]
  },
  {
   "cell_type": "code",
   "execution_count": 7,
   "metadata": {},
   "outputs": [
    {
     "name": "stderr",
     "output_type": "stream",
     "text": [
      "c:\\Users\\Usuario\\Desktop\\imperial_projects\\VSCode\\pcgym2\\new_venv\\Lib\\site-packages\\stable_baselines3\\common\\save_util.py:449: FutureWarning: You are using `torch.load` with `weights_only=False` (the current default value), which uses the default pickle module implicitly. It is possible to construct malicious pickle data which will execute arbitrary code during unpickling (See https://github.com/pytorch/pytorch/blob/main/SECURITY.md#untrusted-models for more details). In a future release, the default value for `weights_only` will be flipped to `True`. This limits the functions that could be executed during unpickling. Arbitrary objects will no longer be allowed to be loaded via this mode unless they are explicitly allowlisted by the user via `torch.serialization.add_safe_globals`. We recommend you start setting `weights_only=True` for any use case where you don't have full control of the loaded file. Please open an issue on GitHub for any issues related to this experimental feature.\n",
      "  th_object = th.load(file_content, map_location=device)\n",
      "[I 2024-08-15 15:14:15,683] A new study created in memory with name: no-name-4f719d47-3d44-452a-8614-7f7181cda5f8\n"
     ]
    },
    {
     "name": "stdout",
     "output_type": "stream",
     "text": [
      "Evaluating with N=6, R_value=0.49546150274744116, Q_value=0.363094205040021\n"
     ]
    },
    {
     "name": "stderr",
     "output_type": "stream",
     "text": [
      "[W 2024-08-15 15:14:21,573] Trial 0 failed with parameters: {'N': 6, 'R': 0.49546150274744116, 'Q': 0.363094205040021} because of the following error: The value array([-0.40494932, -0.40494932, -0.40494932, -0.40494932, -0.40494932]) could not be cast to float.\n",
      "[W 2024-08-15 15:14:21,573] Trial 0 failed with value array([-0.40494932, -0.40494932, -0.40494932, -0.40494932, -0.40494932]).\n"
     ]
    },
    {
     "name": "stdout",
     "output_type": "stream",
     "text": [
      "Evaluating with N=4, R_value=0.2798161863858589, Q_value=0.26241771081906606\n"
     ]
    },
    {
     "name": "stderr",
     "output_type": "stream",
     "text": [
      "[W 2024-08-15 15:14:26,954] Trial 1 failed with parameters: {'N': 4, 'R': 0.2798161863858589, 'Q': 0.26241771081906606} because of the following error: The value array([-0.40494932, -0.40494932, -0.40494932, -0.40494932, -0.40494932]) could not be cast to float.\n",
      "[W 2024-08-15 15:14:26,955] Trial 1 failed with value array([-0.40494932, -0.40494932, -0.40494932, -0.40494932, -0.40494932]).\n"
     ]
    },
    {
     "name": "stdout",
     "output_type": "stream",
     "text": [
      "Evaluating with N=11, R_value=0.2663397100774862, Q_value=0.5044724209880918\n"
     ]
    },
    {
     "name": "stderr",
     "output_type": "stream",
     "text": [
      "[W 2024-08-15 15:14:33,868] Trial 2 failed with parameters: {'N': 11, 'R': 0.2663397100774862, 'Q': 0.5044724209880918} because of the following error: The value array([-0.40494932, -0.40494932, -0.40494932, -0.40494932, -0.40494932]) could not be cast to float.\n",
      "[W 2024-08-15 15:14:33,869] Trial 2 failed with value array([-0.40494932, -0.40494932, -0.40494932, -0.40494932, -0.40494932]).\n"
     ]
    },
    {
     "name": "stdout",
     "output_type": "stream",
     "text": [
      "Evaluating with N=27, R_value=0.2753776150026185, Q_value=0.3045342236619779\n"
     ]
    },
    {
     "name": "stderr",
     "output_type": "stream",
     "text": [
      "[W 2024-08-15 15:14:44,025] Trial 3 failed with parameters: {'N': 27, 'R': 0.2753776150026185, 'Q': 0.3045342236619779} because of the following error: The value array([-0.40494932, -0.40494932, -0.40494932, -0.40494932, -0.40494932]) could not be cast to float.\n",
      "[W 2024-08-15 15:14:44,026] Trial 3 failed with value array([-0.40494932, -0.40494932, -0.40494932, -0.40494932, -0.40494932]).\n"
     ]
    },
    {
     "name": "stdout",
     "output_type": "stream",
     "text": [
      "Evaluating with N=20, R_value=0.6576559485396575, Q_value=0.4650093490434938\n"
     ]
    },
    {
     "name": "stderr",
     "output_type": "stream",
     "text": [
      "[W 2024-08-15 15:14:52,669] Trial 4 failed with parameters: {'N': 20, 'R': 0.6576559485396575, 'Q': 0.4650093490434938} because of the following error: The value array([-0.40494932, -0.40494932, -0.40494932, -0.40494932, -0.40494932]) could not be cast to float.\n",
      "[W 2024-08-15 15:14:52,669] Trial 4 failed with value array([-0.40494932, -0.40494932, -0.40494932, -0.40494932, -0.40494932]).\n"
     ]
    },
    {
     "name": "stdout",
     "output_type": "stream",
     "text": [
      "Evaluating with N=19, R_value=0.03074418427459114, Q_value=0.28713143934180085\n"
     ]
    },
    {
     "name": "stderr",
     "output_type": "stream",
     "text": [
      "[W 2024-08-15 15:15:00,505] Trial 5 failed with parameters: {'N': 19, 'R': 0.03074418427459114, 'Q': 0.28713143934180085} because of the following error: The value array([-0.16615803, -0.16615803, -0.16615803, -0.16615803, -0.16615803]) could not be cast to float.\n",
      "[W 2024-08-15 15:15:00,506] Trial 5 failed with value array([-0.16615803, -0.16615803, -0.16615803, -0.16615803, -0.16615803]).\n"
     ]
    },
    {
     "name": "stdout",
     "output_type": "stream",
     "text": [
      "Evaluating with N=12, R_value=0.6115780653751682, Q_value=0.6190161716405339\n"
     ]
    },
    {
     "name": "stderr",
     "output_type": "stream",
     "text": [
      "[W 2024-08-15 15:15:07,980] Trial 6 failed with parameters: {'N': 12, 'R': 0.6115780653751682, 'Q': 0.6190161716405339} because of the following error: The value array([-0.40494932, -0.40494932, -0.40494932, -0.40494932, -0.40494932]) could not be cast to float.\n",
      "[W 2024-08-15 15:15:07,981] Trial 6 failed with value array([-0.40494932, -0.40494932, -0.40494932, -0.40494932, -0.40494932]).\n"
     ]
    },
    {
     "name": "stdout",
     "output_type": "stream",
     "text": [
      "Evaluating with N=18, R_value=0.5245862601655424, Q_value=0.14022525133740185\n"
     ]
    },
    {
     "name": "stderr",
     "output_type": "stream",
     "text": [
      "[W 2024-08-15 15:15:16,391] Trial 7 failed with parameters: {'N': 18, 'R': 0.5245862601655424, 'Q': 0.14022525133740185} because of the following error: The value array([-0.40494932, -0.40494932, -0.40494932, -0.40494932, -0.40494932]) could not be cast to float.\n",
      "[W 2024-08-15 15:15:16,392] Trial 7 failed with value array([-0.40494932, -0.40494932, -0.40494932, -0.40494932, -0.40494932]).\n"
     ]
    },
    {
     "name": "stdout",
     "output_type": "stream",
     "text": [
      "Evaluating with N=13, R_value=0.401975655951507, Q_value=0.03940364787864085\n"
     ]
    },
    {
     "name": "stderr",
     "output_type": "stream",
     "text": [
      "[W 2024-08-15 15:15:23,859] Trial 8 failed with parameters: {'N': 13, 'R': 0.401975655951507, 'Q': 0.03940364787864085} because of the following error: The value array([-0.40494932, -0.40494932, -0.40494932, -0.40494932, -0.40494932]) could not be cast to float.\n",
      "[W 2024-08-15 15:15:23,860] Trial 8 failed with value array([-0.40494932, -0.40494932, -0.40494932, -0.40494932, -0.40494932]).\n"
     ]
    },
    {
     "name": "stdout",
     "output_type": "stream",
     "text": [
      "Evaluating with N=21, R_value=0.8249530134469799, Q_value=0.39001865737654956\n"
     ]
    },
    {
     "name": "stderr",
     "output_type": "stream",
     "text": [
      "[W 2024-08-15 15:15:33,105] Trial 9 failed with parameters: {'N': 21, 'R': 0.8249530134469799, 'Q': 0.39001865737654956} because of the following error: The value array([-0.40494932, -0.40494932, -0.40494932, -0.40494932, -0.40494932]) could not be cast to float.\n",
      "[W 2024-08-15 15:15:33,105] Trial 9 failed with value array([-0.40494932, -0.40494932, -0.40494932, -0.40494932, -0.40494932]).\n"
     ]
    },
    {
     "name": "stdout",
     "output_type": "stream",
     "text": [
      "Evaluating with N=12, R_value=0.8952707583809981, Q_value=0.38463872604441784\n"
     ]
    },
    {
     "name": "stderr",
     "output_type": "stream",
     "text": [
      "[W 2024-08-15 15:15:40,225] Trial 10 failed with parameters: {'N': 12, 'R': 0.8952707583809981, 'Q': 0.38463872604441784} because of the following error: The value array([-0.40494932, -0.40494932, -0.40494932, -0.40494932, -0.40494932]) could not be cast to float.\n",
      "[W 2024-08-15 15:15:40,226] Trial 10 failed with value array([-0.40494932, -0.40494932, -0.40494932, -0.40494932, -0.40494932]).\n"
     ]
    },
    {
     "name": "stdout",
     "output_type": "stream",
     "text": [
      "Evaluating with N=2, R_value=0.5620690757776886, Q_value=0.7689224634901475\n"
     ]
    },
    {
     "name": "stderr",
     "output_type": "stream",
     "text": [
      "[W 2024-08-15 15:15:45,304] Trial 11 failed with parameters: {'N': 2, 'R': 0.5620690757776886, 'Q': 0.7689224634901475} because of the following error: The value array([-0.40494932, -0.40494932, -0.40494932, -0.40494932, -0.40494932]) could not be cast to float.\n",
      "[W 2024-08-15 15:15:45,304] Trial 11 failed with value array([-0.40494932, -0.40494932, -0.40494932, -0.40494932, -0.40494932]).\n"
     ]
    },
    {
     "name": "stdout",
     "output_type": "stream",
     "text": [
      "Evaluating with N=8, R_value=0.16226828069901253, Q_value=0.14913250840722017\n"
     ]
    },
    {
     "name": "stderr",
     "output_type": "stream",
     "text": [
      "[W 2024-08-15 15:15:51,506] Trial 12 failed with parameters: {'N': 8, 'R': 0.16226828069901253, 'Q': 0.14913250840722017} because of the following error: The value array([-0.40494932, -0.40494932, -0.40494932, -0.40494932, -0.40494932]) could not be cast to float.\n",
      "[W 2024-08-15 15:15:51,507] Trial 12 failed with value array([-0.40494932, -0.40494932, -0.40494932, -0.40494932, -0.40494932]).\n"
     ]
    },
    {
     "name": "stdout",
     "output_type": "stream",
     "text": [
      "Evaluating with N=6, R_value=0.9337102504900997, Q_value=0.5679454797724759\n"
     ]
    },
    {
     "name": "stderr",
     "output_type": "stream",
     "text": [
      "[W 2024-08-15 15:15:57,297] Trial 13 failed with parameters: {'N': 6, 'R': 0.9337102504900997, 'Q': 0.5679454797724759} because of the following error: The value array([-0.40494932, -0.40494932, -0.40494932, -0.40494932, -0.40494932]) could not be cast to float.\n",
      "[W 2024-08-15 15:15:57,298] Trial 13 failed with value array([-0.40494932, -0.40494932, -0.40494932, -0.40494932, -0.40494932]).\n"
     ]
    },
    {
     "name": "stdout",
     "output_type": "stream",
     "text": [
      "Evaluating with N=6, R_value=0.565985830906603, Q_value=0.9210548590953098\n"
     ]
    },
    {
     "name": "stderr",
     "output_type": "stream",
     "text": [
      "[W 2024-08-15 15:16:03,144] Trial 14 failed with parameters: {'N': 6, 'R': 0.565985830906603, 'Q': 0.9210548590953098} because of the following error: The value array([-0.40494932, -0.40494932, -0.40494932, -0.40494932, -0.40494932]) could not be cast to float.\n",
      "[W 2024-08-15 15:16:03,144] Trial 14 failed with value array([-0.40494932, -0.40494932, -0.40494932, -0.40494932, -0.40494932]).\n"
     ]
    },
    {
     "name": "stdout",
     "output_type": "stream",
     "text": [
      "Evaluating with N=8, R_value=0.0810571290280523, Q_value=0.29798886514504536\n"
     ]
    },
    {
     "name": "stderr",
     "output_type": "stream",
     "text": [
      "[W 2024-08-15 15:16:09,385] Trial 15 failed with parameters: {'N': 8, 'R': 0.0810571290280523, 'Q': 0.29798886514504536} because of the following error: The value array([-0.40494932, -0.40494932, -0.40494932, -0.40494932, -0.40494932]) could not be cast to float.\n",
      "[W 2024-08-15 15:16:09,386] Trial 15 failed with value array([-0.40494932, -0.40494932, -0.40494932, -0.40494932, -0.40494932]).\n"
     ]
    },
    {
     "name": "stdout",
     "output_type": "stream",
     "text": [
      "Evaluating with N=7, R_value=0.260899060240007, Q_value=0.5945280887419845\n"
     ]
    },
    {
     "name": "stderr",
     "output_type": "stream",
     "text": [
      "[W 2024-08-15 15:16:15,542] Trial 16 failed with parameters: {'N': 7, 'R': 0.260899060240007, 'Q': 0.5945280887419845} because of the following error: The value array([-0.40494932, -0.40494932, -0.40494932, -0.40494932, -0.40494932]) could not be cast to float.\n",
      "[W 2024-08-15 15:16:15,543] Trial 16 failed with value array([-0.40494932, -0.40494932, -0.40494932, -0.40494932, -0.40494932]).\n"
     ]
    },
    {
     "name": "stdout",
     "output_type": "stream",
     "text": [
      "Evaluating with N=11, R_value=0.6259979648615269, Q_value=0.03975622499826655\n"
     ]
    },
    {
     "name": "stderr",
     "output_type": "stream",
     "text": [
      "[W 2024-08-15 15:16:22,463] Trial 17 failed with parameters: {'N': 11, 'R': 0.6259979648615269, 'Q': 0.03975622499826655} because of the following error: The value array([-0.40494932, -0.40494932, -0.40494932, -0.40494932, -0.40494932]) could not be cast to float.\n",
      "[W 2024-08-15 15:16:22,465] Trial 17 failed with value array([-0.40494932, -0.40494932, -0.40494932, -0.40494932, -0.40494932]).\n"
     ]
    },
    {
     "name": "stdout",
     "output_type": "stream",
     "text": [
      "Evaluating with N=12, R_value=0.8862471738851432, Q_value=0.6202304603438178\n"
     ]
    },
    {
     "name": "stderr",
     "output_type": "stream",
     "text": [
      "[W 2024-08-15 15:16:29,959] Trial 18 failed with parameters: {'N': 12, 'R': 0.8862471738851432, 'Q': 0.6202304603438178} because of the following error: The value array([-0.40494932, -0.40494932, -0.40494932, -0.40494932, -0.40494932]) could not be cast to float.\n",
      "[W 2024-08-15 15:16:29,960] Trial 18 failed with value array([-0.40494932, -0.40494932, -0.40494932, -0.40494932, -0.40494932]).\n"
     ]
    },
    {
     "name": "stdout",
     "output_type": "stream",
     "text": [
      "Evaluating with N=13, R_value=0.11058795204021678, Q_value=0.21860039553223323\n"
     ]
    },
    {
     "name": "stderr",
     "output_type": "stream",
     "text": [
      "[W 2024-08-15 15:16:37,448] Trial 19 failed with parameters: {'N': 13, 'R': 0.11058795204021678, 'Q': 0.21860039553223323} because of the following error: The value array([-0.40494932, -0.40494932, -0.40494932, -0.40494932, -0.40494932]) could not be cast to float.\n",
      "[W 2024-08-15 15:16:37,449] Trial 19 failed with value array([-0.40494932, -0.40494932, -0.40494932, -0.40494932, -0.40494932]).\n"
     ]
    },
    {
     "name": "stdout",
     "output_type": "stream",
     "text": [
      "Study name: optimization_20240815_151415\n",
      "Best parameters:\n",
      "Error printing results: No trials are completed yet.\n"
     ]
    },
    {
     "ename": "ValueError",
     "evalue": "No trials are completed yet.",
     "output_type": "error",
     "traceback": [
      "\u001b[1;31m---------------------------------------------------------------------------\u001b[0m",
      "\u001b[1;31mValueError\u001b[0m                                Traceback (most recent call last)",
      "Cell \u001b[1;32mIn[7], line 6\u001b[0m\n\u001b[0;32m      4\u001b[0m optimization \u001b[38;5;241m=\u001b[39m OptimizationStudy(eval_env, best_model_path, save_dir)\n\u001b[0;32m      5\u001b[0m optimization\u001b[38;5;241m.\u001b[39mrun_optimization(\u001b[38;5;241m20\u001b[39m)\n\u001b[1;32m----> 6\u001b[0m \u001b[43moptimization\u001b[49m\u001b[38;5;241;43m.\u001b[39;49m\u001b[43mprint_results\u001b[49m\u001b[43m(\u001b[49m\u001b[43m)\u001b[49m\n\u001b[0;32m      7\u001b[0m optimization\u001b[38;5;241m.\u001b[39msave_results()  \u001b[38;5;66;03m# Save results to a file\u001b[39;00m\n\u001b[0;32m      8\u001b[0m optimization\u001b[38;5;241m.\u001b[39mvisualize_results()\n",
      "Cell \u001b[1;32mIn[6], line 103\u001b[0m, in \u001b[0;36mOptimizationStudy.print_results\u001b[1;34m(self)\u001b[0m\n\u001b[0;32m    101\u001b[0m \u001b[38;5;28mprint\u001b[39m(\u001b[38;5;124mf\u001b[39m\u001b[38;5;124m'\u001b[39m\u001b[38;5;124mStudy name: \u001b[39m\u001b[38;5;132;01m{\u001b[39;00m\u001b[38;5;28mself\u001b[39m\u001b[38;5;241m.\u001b[39mstudy_name\u001b[38;5;132;01m}\u001b[39;00m\u001b[38;5;124m'\u001b[39m)\n\u001b[0;32m    102\u001b[0m \u001b[38;5;28mprint\u001b[39m(\u001b[38;5;124m'\u001b[39m\u001b[38;5;124mBest parameters:\u001b[39m\u001b[38;5;124m'\u001b[39m)\n\u001b[1;32m--> 103\u001b[0m \u001b[38;5;28mprint\u001b[39m(\u001b[38;5;124mf\u001b[39m\u001b[38;5;124m\"\u001b[39m\u001b[38;5;124mN = \u001b[39m\u001b[38;5;132;01m{\u001b[39;00m\u001b[38;5;28;43mself\u001b[39;49m\u001b[38;5;241;43m.\u001b[39;49m\u001b[43mstudy\u001b[49m\u001b[38;5;241;43m.\u001b[39;49m\u001b[43mbest_params\u001b[49m[\u001b[38;5;124m'\u001b[39m\u001b[38;5;124mN\u001b[39m\u001b[38;5;124m'\u001b[39m]\u001b[38;5;132;01m}\u001b[39;00m\u001b[38;5;124m\"\u001b[39m)\n\u001b[0;32m    104\u001b[0m \u001b[38;5;28mprint\u001b[39m(\u001b[38;5;124mf\u001b[39m\u001b[38;5;124m\"\u001b[39m\u001b[38;5;124mR = \u001b[39m\u001b[38;5;132;01m{\u001b[39;00m\u001b[38;5;28mself\u001b[39m\u001b[38;5;241m.\u001b[39mstudy\u001b[38;5;241m.\u001b[39mbest_params[\u001b[38;5;124m'\u001b[39m\u001b[38;5;124mR\u001b[39m\u001b[38;5;124m'\u001b[39m]\u001b[38;5;132;01m:\u001b[39;00m\u001b[38;5;124m.6e\u001b[39m\u001b[38;5;132;01m}\u001b[39;00m\u001b[38;5;124m\"\u001b[39m)\n\u001b[0;32m    105\u001b[0m \u001b[38;5;28mprint\u001b[39m(\u001b[38;5;124mf\u001b[39m\u001b[38;5;124m\"\u001b[39m\u001b[38;5;124mQ = \u001b[39m\u001b[38;5;132;01m{\u001b[39;00m\u001b[38;5;28mself\u001b[39m\u001b[38;5;241m.\u001b[39mstudy\u001b[38;5;241m.\u001b[39mbest_params[\u001b[38;5;124m'\u001b[39m\u001b[38;5;124mQ\u001b[39m\u001b[38;5;124m'\u001b[39m]\u001b[38;5;132;01m:\u001b[39;00m\u001b[38;5;124m.6e\u001b[39m\u001b[38;5;132;01m}\u001b[39;00m\u001b[38;5;124m\"\u001b[39m)\n",
      "File \u001b[1;32mc:\\Users\\Usuario\\Desktop\\imperial_projects\\VSCode\\pcgym2\\new_venv\\Lib\\site-packages\\optuna\\study\\study.py:114\u001b[0m, in \u001b[0;36mStudy.best_params\u001b[1;34m(self)\u001b[0m\n\u001b[0;32m    102\u001b[0m \u001b[38;5;129m@property\u001b[39m\n\u001b[0;32m    103\u001b[0m \u001b[38;5;28;01mdef\u001b[39;00m \u001b[38;5;21mbest_params\u001b[39m(\u001b[38;5;28mself\u001b[39m) \u001b[38;5;241m-\u001b[39m\u001b[38;5;241m>\u001b[39m \u001b[38;5;28mdict\u001b[39m[\u001b[38;5;28mstr\u001b[39m, Any]:\n\u001b[0;32m    104\u001b[0m \u001b[38;5;250m    \u001b[39m\u001b[38;5;124;03m\"\"\"Return parameters of the best trial in the study.\u001b[39;00m\n\u001b[0;32m    105\u001b[0m \n\u001b[0;32m    106\u001b[0m \u001b[38;5;124;03m    .. note::\u001b[39;00m\n\u001b[1;32m   (...)\u001b[0m\n\u001b[0;32m    111\u001b[0m \n\u001b[0;32m    112\u001b[0m \u001b[38;5;124;03m    \"\"\"\u001b[39;00m\n\u001b[1;32m--> 114\u001b[0m     \u001b[38;5;28;01mreturn\u001b[39;00m \u001b[38;5;28;43mself\u001b[39;49m\u001b[38;5;241;43m.\u001b[39;49m\u001b[43mbest_trial\u001b[49m\u001b[38;5;241m.\u001b[39mparams\n",
      "File \u001b[1;32mc:\\Users\\Usuario\\Desktop\\imperial_projects\\VSCode\\pcgym2\\new_venv\\Lib\\site-packages\\optuna\\study\\study.py:157\u001b[0m, in \u001b[0;36mStudy.best_trial\u001b[1;34m(self)\u001b[0m\n\u001b[0;32m    151\u001b[0m \u001b[38;5;28;01mif\u001b[39;00m \u001b[38;5;28mself\u001b[39m\u001b[38;5;241m.\u001b[39m_is_multi_objective():\n\u001b[0;32m    152\u001b[0m     \u001b[38;5;28;01mraise\u001b[39;00m \u001b[38;5;167;01mRuntimeError\u001b[39;00m(\n\u001b[0;32m    153\u001b[0m         \u001b[38;5;124m\"\u001b[39m\u001b[38;5;124mA single best trial cannot be retrieved from a multi-objective study. Consider \u001b[39m\u001b[38;5;124m\"\u001b[39m\n\u001b[0;32m    154\u001b[0m         \u001b[38;5;124m\"\u001b[39m\u001b[38;5;124musing Study.best_trials to retrieve a list containing the best trials.\u001b[39m\u001b[38;5;124m\"\u001b[39m\n\u001b[0;32m    155\u001b[0m     )\n\u001b[1;32m--> 157\u001b[0m \u001b[38;5;28;01mreturn\u001b[39;00m copy\u001b[38;5;241m.\u001b[39mdeepcopy(\u001b[38;5;28;43mself\u001b[39;49m\u001b[38;5;241;43m.\u001b[39;49m\u001b[43m_storage\u001b[49m\u001b[38;5;241;43m.\u001b[39;49m\u001b[43mget_best_trial\u001b[49m\u001b[43m(\u001b[49m\u001b[38;5;28;43mself\u001b[39;49m\u001b[38;5;241;43m.\u001b[39;49m\u001b[43m_study_id\u001b[49m\u001b[43m)\u001b[49m)\n",
      "File \u001b[1;32mc:\\Users\\Usuario\\Desktop\\imperial_projects\\VSCode\\pcgym2\\new_venv\\Lib\\site-packages\\optuna\\storages\\_in_memory.py:234\u001b[0m, in \u001b[0;36mInMemoryStorage.get_best_trial\u001b[1;34m(self, study_id)\u001b[0m\n\u001b[0;32m    231\u001b[0m best_trial_id \u001b[38;5;241m=\u001b[39m \u001b[38;5;28mself\u001b[39m\u001b[38;5;241m.\u001b[39m_studies[study_id]\u001b[38;5;241m.\u001b[39mbest_trial_id\n\u001b[0;32m    233\u001b[0m \u001b[38;5;28;01mif\u001b[39;00m best_trial_id \u001b[38;5;129;01mis\u001b[39;00m \u001b[38;5;28;01mNone\u001b[39;00m:\n\u001b[1;32m--> 234\u001b[0m     \u001b[38;5;28;01mraise\u001b[39;00m \u001b[38;5;167;01mValueError\u001b[39;00m(\u001b[38;5;124m\"\u001b[39m\u001b[38;5;124mNo trials are completed yet.\u001b[39m\u001b[38;5;124m\"\u001b[39m)\n\u001b[0;32m    235\u001b[0m \u001b[38;5;28;01melif\u001b[39;00m \u001b[38;5;28mlen\u001b[39m(\u001b[38;5;28mself\u001b[39m\u001b[38;5;241m.\u001b[39m_studies[study_id]\u001b[38;5;241m.\u001b[39mdirections) \u001b[38;5;241m>\u001b[39m \u001b[38;5;241m1\u001b[39m:\n\u001b[0;32m    236\u001b[0m     \u001b[38;5;28;01mraise\u001b[39;00m \u001b[38;5;167;01mRuntimeError\u001b[39;00m(\n\u001b[0;32m    237\u001b[0m         \u001b[38;5;124m\"\u001b[39m\u001b[38;5;124mBest trial can be obtained only for single-objective optimization.\u001b[39m\u001b[38;5;124m\"\u001b[39m\n\u001b[0;32m    238\u001b[0m     )\n",
      "\u001b[1;31mValueError\u001b[0m: No trials are completed yet."
     ]
    }
   ],
   "source": [
    "# Usage example in Jupyter notebook:\n",
    "save_dir = \"C:/Users/Usuario/Desktop/imperial_projects/VSCode/pcgym2/paper_base_opt_train_eval/ppo\"\n",
    "best_model_path = f\"{save_dir}/best_model.zip\"\n",
    "optimization = OptimizationStudy(eval_env, best_model_path, save_dir)\n",
    "optimization.run_optimization(20)\n",
    "optimization.print_results()\n",
    "optimization.save_results()  # Save results to a file\n",
    "optimization.visualize_results()\n",
    "best_params = optimization.get_best_params()"
   ]
  },
  {
   "cell_type": "code",
   "execution_count": null,
   "metadata": {},
   "outputs": [],
   "source": [
    "# Set the global seed for reproducibility\n",
    "set_global_seeds(seed)\n",
    "\n",
    "# Define a new disturbance pattern that is out of the scope trained\n",
    "new_disturbance = {'Ti': np.repeat([390, 370, 310], [nsteps//4, nsteps//2, nsteps//4])}\n",
    "\n",
    "# Create a new environment with the custom disturbance\n",
    "env_new = create_eval_env_with_disturbances(seed, new_disturbance)\n",
    "\n",
    "# Define the OptimizationStudy class with this new environment\n",
    "optimization_new = OptimizationStudy(env_new, best_model_path, save_dir)\n",
    "\n",
    "# Run the optimization process with the new disturbance\n",
    "optimization_new.run_optimization(10)\n",
    "\n",
    "# Print and save the results\n",
    "optimization_new.print_results()\n",
    "optimization_new.save_results()\n",
    "\n",
    "# Visualize the optimization results\n",
    "optimization_new.visualize_results()\n",
    "\n",
    "# Get the optimized parameters\n",
    "best_params_new = optimization_new.get_best_params()\n",
    "\n",
    "print(f\"Optimized Parameters with New Disturbance: {best_params_new}\")"
   ]
  }
 ],
 "metadata": {
  "kernelspec": {
   "display_name": "new_venv",
   "language": "python",
   "name": "python3"
  },
  "language_info": {
   "codemirror_mode": {
    "name": "ipython",
    "version": 3
   },
   "file_extension": ".py",
   "mimetype": "text/x-python",
   "name": "python",
   "nbconvert_exporter": "python",
   "pygments_lexer": "ipython3",
   "version": "3.12.2"
  }
 },
 "nbformat": 4,
 "nbformat_minor": 2
}
